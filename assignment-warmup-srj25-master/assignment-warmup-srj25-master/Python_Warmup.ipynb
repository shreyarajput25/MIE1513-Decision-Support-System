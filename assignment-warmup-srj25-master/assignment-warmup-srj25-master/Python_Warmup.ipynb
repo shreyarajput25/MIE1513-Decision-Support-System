{
  "nbformat": 4,
  "nbformat_minor": 0,
  "metadata": {
    "kernelspec": {
      "name": "python3",
      "display_name": "Python 3"
    },
    "colab": {
      "name": "Python_Warmup.ipynb",
      "provenance": [],
      "collapsed_sections": [],
      "toc_visible": true
    }
  },
  "cells": [
    {
      "cell_type": "markdown",
      "metadata": {
        "id": "4L1Vk_YhUVSO",
        "colab_type": "text"
      },
      "source": [
        "# Assignment - Python Warmup\n",
        "Please follow the instructions in the assignment's PDF and fill in the code for each function."
      ]
    },
    {
      "cell_type": "markdown",
      "metadata": {
        "id": "K2wlQJ1RUVSQ",
        "colab_type": "text"
      },
      "source": [
        "## Exercise 1"
      ]
    },
    {
      "cell_type": "code",
      "metadata": {
        "id": "LRYjSAU2UVSR",
        "colab_type": "code",
        "colab": {}
      },
      "source": [
        "import os\n",
        "import pathlib\n",
        "import pandas as pd\n",
        "import numpy as np\n",
        "import re\n",
        "import numpy as np\n",
        "from collections import OrderedDict \n",
        "from itertools import groupby\n",
        "from urllib.request import urlopen   \n",
        "from sklearn.model_selection import train_test_split \n",
        "from sklearn.linear_model import LinearRegression\n",
        "\n",
        "def positionWord(filePath, position):\n",
        "    file =[]\n",
        "    \n",
        "    with open(filePath, \"r\") as poemFile:\n",
        "        poemText = poemFile.read()\n",
        "        poemText = re.sub(r'[^a-zA-Z0-9_\\s]+', '', poemText)\n",
        "    \n",
        "    poemLines = poemText.splitlines()\n",
        "    for i in poemLines:\n",
        "        word = i.split()[position]\n",
        "        file.append(word)\n",
        "    return(file)"
      ],
      "execution_count": 0,
      "outputs": []
    },
    {
      "cell_type": "markdown",
      "metadata": {
        "id": "eX9kKl5JZ4ok",
        "colab_type": "text"
      },
      "source": [
        "## Exercise 2"
      ]
    },
    {
      "cell_type": "code",
      "metadata": {
        "id": "aUz-S0pDUVSW",
        "colab_type": "code",
        "colab": {}
      },
      "source": [
        "def onlyUpperCase(text):\n",
        "    text = re.sub(re.compile(r'\\s+'), '', text)\n",
        "    file = [x for x in text if x.isupper() == True]\n",
        "    return ''.join(file)"
      ],
      "execution_count": 0,
      "outputs": []
    },
    {
      "cell_type": "markdown",
      "metadata": {
        "id": "z2rIx_F7UVSZ",
        "colab_type": "text"
      },
      "source": [
        "## Exercise 3"
      ]
    },
    {
      "cell_type": "code",
      "metadata": {
        "id": "E6XvgsgmUVSa",
        "colab_type": "code",
        "colab": {}
      },
      "source": [
        "def divisors(num1, num2):\n",
        "    list_num = []\n",
        "    for num in range(1, num1+1):\n",
        "        if num%num2 == 0:\n",
        "            list_num.append(num)\n",
        "    return list_num\n",
        "  # Please write your code here"
      ],
      "execution_count": 0,
      "outputs": []
    },
    {
      "cell_type": "markdown",
      "metadata": {
        "id": "fJEhXAtDUVSd",
        "colab_type": "text"
      },
      "source": [
        "## Exercise 4"
      ]
    },
    {
      "cell_type": "code",
      "metadata": {
        "id": "3Cs0OgGmUVSe",
        "colab_type": "code",
        "colab": {}
      },
      "source": [
        "def countWords(wordList):\n",
        "    word_dict= dict() \n",
        "    for words in set(wordList):\n",
        "        word_dict.update({words:wordList.count(words)})\n",
        "    return word_dict"
      ],
      "execution_count": 0,
      "outputs": []
    },
    {
      "cell_type": "markdown",
      "metadata": {
        "id": "CGC6gPENUVSh",
        "colab_type": "text"
      },
      "source": [
        "## Exercise 5"
      ]
    },
    {
      "cell_type": "code",
      "metadata": {
        "id": "yABkiEt5UVSi",
        "colab_type": "code",
        "colab": {}
      },
      "source": [
        "def organizedCountWords(wordList):\n",
        "    word_dict= dict()\n",
        "    \n",
        "    unique = list(set(wordList))\n",
        "    unique.sort(key=len)\n",
        "    for words in unique:\n",
        "        if len(words) in word_dict.keys():\n",
        "            print('yes')\n",
        "            word_dict[len(words)].update({words:wordList.count(words)})\n",
        "        else:\n",
        "            word_dict.update({len(words):{words:wordList.count(words)}})\n",
        "    return word_dict"
      ],
      "execution_count": 0,
      "outputs": []
    },
    {
      "cell_type": "markdown",
      "metadata": {
        "id": "tlb0ecAtUX-e",
        "colab_type": "text"
      },
      "source": [
        "##Exercise 6"
      ]
    },
    {
      "cell_type": "code",
      "metadata": {
        "id": "FvW7BpD3UXG2",
        "colab_type": "code",
        "colab": {
          "base_uri": "https://localhost:8080/",
          "height": 195
        },
        "outputId": "407c6b7d-cc2e-43db-8cf6-de6de64c6b61"
      },
      "source": [
        "def AvgNeighbourhoodListingPrice(neighbourhoodList, room_type, number_of_reviews, minimum_nights):\n",
        "    data = pd.read_csv(\"https://raw.githubusercontent.com/MIE451-1513-2019/course-datasets/master/toronto_airbnb_listings_Aug2019.csv\",sep=\",\", usecols = [\"room_type\", \"number_of_reviews\",\"minimum_nights\", \"neighbourhood\", \"price\"])\n",
        "    data = data[data[\"room_type\"].eq(room_type) &  data[\"number_of_reviews\"].ge(number_of_reviews) & data[\"minimum_nights\"].le(minimum_nights)]\n",
        "    search = data[[\"neighbourhood\", \"price\"]].groupby(['neighbourhood'])[['price']].mean().round(2).loc[neighbourhoodList].sort_values('price', ascending=False)\n",
        "    return search"
      ],
      "execution_count": 38,
      "outputs": [
        {
          "output_type": "execute_result",
          "data": {
            "text/html": [
              "<div>\n",
              "<style scoped>\n",
              "    .dataframe tbody tr th:only-of-type {\n",
              "        vertical-align: middle;\n",
              "    }\n",
              "\n",
              "    .dataframe tbody tr th {\n",
              "        vertical-align: top;\n",
              "    }\n",
              "\n",
              "    .dataframe thead th {\n",
              "        text-align: right;\n",
              "    }\n",
              "</style>\n",
              "<table border=\"1\" class=\"dataframe\">\n",
              "  <thead>\n",
              "    <tr style=\"text-align: right;\">\n",
              "      <th></th>\n",
              "      <th>price</th>\n",
              "    </tr>\n",
              "    <tr>\n",
              "      <th>neighbourhood</th>\n",
              "      <th></th>\n",
              "    </tr>\n",
              "  </thead>\n",
              "  <tbody>\n",
              "    <tr>\n",
              "      <th>Edenbridge-Humber Valley</th>\n",
              "      <td>453.33</td>\n",
              "    </tr>\n",
              "    <tr>\n",
              "      <th>Annex</th>\n",
              "      <td>141.99</td>\n",
              "    </tr>\n",
              "    <tr>\n",
              "      <th>The Beaches</th>\n",
              "      <td>126.24</td>\n",
              "    </tr>\n",
              "    <tr>\n",
              "      <th>Greenwood-Coxwell</th>\n",
              "      <td>119.71</td>\n",
              "    </tr>\n",
              "  </tbody>\n",
              "</table>\n",
              "</div>"
            ],
            "text/plain": [
              "                           price\n",
              "neighbourhood                   \n",
              "Edenbridge-Humber Valley  453.33\n",
              "Annex                     141.99\n",
              "The Beaches               126.24\n",
              "Greenwood-Coxwell         119.71"
            ]
          },
          "metadata": {
            "tags": []
          },
          "execution_count": 38
        }
      ]
    },
    {
      "cell_type": "markdown",
      "metadata": {
        "id": "cxMjcYPrjkZL",
        "colab_type": "text"
      },
      "source": [
        "## Exercise 7"
      ]
    },
    {
      "cell_type": "code",
      "metadata": {
        "id": "xRjMh_EjjnYM",
        "colab_type": "code",
        "colab": {}
      },
      "source": [
        "def leastSquaresFit(urlX,urlY): \n",
        "    data = np.array(pd.read_csv(urlX,sep=\",\", names=['x1','x2', 'x3']))\n",
        "    y = np.array(pd.read_csv(urlY, names=['y']))\n",
        "    regression_model = LinearRegression()\n",
        "    regression_model.fit(data, y)\n",
        "    coef = regression_model.coef_\n",
        "    return np.array(coef.transpose())"
      ],
      "execution_count": 0,
      "outputs": []
    },
    {
      "cell_type": "markdown",
      "metadata": {
        "id": "4BVZJpHKUVSk",
        "colab_type": "text"
      },
      "source": [
        "----------\n",
        "## Validators\n",
        "This following cell provide basic validation of your functions.\n",
        "\n",
        "You should run each cell and make sure you do not get an exception.\n",
        "\n",
        "**IMPORTANT: passing these validators does not mean your code is correct. These are basic validators to make sure the interface of your functions is correct.**"
      ]
    },
    {
      "cell_type": "code",
      "metadata": {
        "id": "ciHXaur-UVSk",
        "colab_type": "code",
        "colab": {}
      },
      "source": [
        "assert(isinstance(positionWord(\"example.txt\", 2), list))"
      ],
      "execution_count": 0,
      "outputs": []
    },
    {
      "cell_type": "code",
      "metadata": {
        "id": "j7V9yRrQUVSm",
        "colab_type": "code",
        "colab": {}
      },
      "source": [
        "assert(isinstance(onlyUpperCase(\"lorem ipsum Dolor Sit amet, conSectetur.\"), str))"
      ],
      "execution_count": 0,
      "outputs": []
    },
    {
      "cell_type": "code",
      "metadata": {
        "id": "xEW8K0GKUVSo",
        "colab_type": "code",
        "colab": {}
      },
      "source": [
        "assert(isinstance(divisors(23, 6), list))"
      ],
      "execution_count": 0,
      "outputs": []
    },
    {
      "cell_type": "code",
      "metadata": {
        "id": "oo1YSY-GUVSq",
        "colab_type": "code",
        "colab": {}
      },
      "source": [
        "words = [\"the\", \"seething\", \"sea\", \"ceaseth\", \"and\", \"thus\", \"the\", \"seething\", \"sea\", \"sufficeth\", \"us\"]\n",
        "assert(isinstance(countWords(words), dict))"
      ],
      "execution_count": 0,
      "outputs": []
    },
    {
      "cell_type": "code",
      "metadata": {
        "id": "FFbsU1TuUVSr",
        "colab_type": "code",
        "outputId": "4cce4987-a9d9-42fe-f2b4-9cb4bb12a9fa",
        "colab": {
          "base_uri": "https://localhost:8080/",
          "height": 52
        }
      },
      "source": [
        "words = [\"the\", \"seething\", \"sea\", \"ceaseth\", \"and\", \"thus\", \"the\", \"seething\", \"sea\", \"sufficeth\", \"us\"]\n",
        "assert(isinstance(organizedCountWords(words), dict))"
      ],
      "execution_count": 0,
      "outputs": [
        {
          "output_type": "stream",
          "text": [
            "yes\n",
            "yes\n"
          ],
          "name": "stdout"
        }
      ]
    },
    {
      "cell_type": "code",
      "metadata": {
        "id": "ws_ZzLA0W1Qp",
        "colab_type": "code",
        "colab": {}
      },
      "source": [
        "df = AvgNeighbourhoodListingPrice([\"Little Portugal\",\"Waterfront Communities-The Island\",\"Rosedale-Moore Park\",\"Kensington-Chinatown\"], \"Private room\", 50, 4)\n",
        "assert(df.shape == (4,1))"
      ],
      "execution_count": 0,
      "outputs": []
    },
    {
      "cell_type": "code",
      "metadata": {
        "id": "dZNBA8Y6g602",
        "colab_type": "code",
        "colab": {}
      },
      "source": [
        "import pandas as pd\n",
        "assert(isinstance(df,pd.DataFrame))"
      ],
      "execution_count": 0,
      "outputs": []
    },
    {
      "cell_type": "code",
      "metadata": {
        "id": "1E-9ru9-jhv1",
        "colab_type": "code",
        "colab": {}
      },
      "source": [
        "w = leastSquaresFit(\"https://raw.githubusercontent.com/MIE451-1513-2019/course-datasets/master/X.csv\",\"https://raw.githubusercontent.com/MIE451-1513-2019/course-datasets/master/Y.csv\")\n",
        "assert(w.shape == (3, 1))"
      ],
      "execution_count": 0,
      "outputs": []
    },
    {
      "cell_type": "code",
      "metadata": {
        "id": "PDvo9Ik_hzDA",
        "colab_type": "code",
        "colab": {}
      },
      "source": [
        "assert(isinstance(w,np.ndarray))"
      ],
      "execution_count": 0,
      "outputs": []
    }
  ]
}